{
 "cells": [
  {
   "cell_type": "code",
   "execution_count": 1,
   "id": "aac17f08-fb2f-48ba-95e5-ad61ce8e36df",
   "metadata": {},
   "outputs": [],
   "source": [
    "import logging\n"
   ]
  },
  {
   "cell_type": "markdown",
   "id": "1760e347-8caa-4796-a463-fb7c4edf4160",
   "metadata": {},
   "source": [
    "Answer 1 -"
   ]
  },
  {
   "cell_type": "code",
   "execution_count": 2,
   "id": "e7d39980-5a2d-47b0-9a1c-6c70f7d45c39",
   "metadata": {},
   "outputs": [
    {
     "name": "stdin",
     "output_type": "stream",
     "text": [
      "Toatal number of marks :-  6\n"
     ]
    },
    {
     "name": "stdout",
     "output_type": "stream",
     "text": [
      "Grade D\n"
     ]
    }
   ],
   "source": [
    "\"\"\"Answer 1\"\"\"\n",
    "\n",
    "logging.basicConfig(filename = \"test1.log\" , level = logging.DEBUG , format = '%(asctime)s %(levelname)s %(message)s')\n",
    "try:\n",
    "    logging.info(\"we are in try block\")\n",
    "    marks = int(input(\"Toatal number of marks :- \"))\n",
    "    if marks > 90:\n",
    "        print(\"Grade A\")\n",
    "    elif(marks >80 and  marks <=90):\n",
    "        print(\"Grade B\")\n",
    "    elif(marks >=60 and marks <=80):\n",
    "        print(\"Grade C\")\n",
    "    elif(marks <60):\n",
    "        print(\"Grade D\")\n",
    "except Exception as e:\n",
    "    logging.info(e)\n",
    "    "
   ]
  },
  {
   "cell_type": "code",
   "execution_count": 3,
   "id": "bec340e9-fd1f-46dd-8eba-63fb8fbff50c",
   "metadata": {},
   "outputs": [
    {
     "name": "stdin",
     "output_type": "stream",
     "text": [
      "Enter cost price of bike:-  454545\n"
     ]
    },
    {
     "name": "stdout",
     "output_type": "stream",
     "text": [
      "Road Tax is 15%\n",
      "File closed\n"
     ]
    }
   ],
   "source": [
    "\"\"\"Answer 2\"\"\"\n",
    "\n",
    "logging.basicConfig(filename = \"test1.log\" , level = logging.DEBUG , format = '%(asctime)s %(levelname)s %(message)s')\n",
    "try:\n",
    "    logging.info(\"the second code\")\n",
    "    cost_price = int(input(\"Enter cost price of bike:- \"))\n",
    "    if cost_price > 100000:\n",
    "        print(\"Road Tax is 15%\")\n",
    "    elif cost_price >50000 and cost_price <=100000:\n",
    "        print(\"Road Tax is 10%\")\n",
    "    elif cost_price <= 50000:\n",
    "        print(\"Road Tax is 5%\")\n",
    "except Exception as e:\n",
    "    logging,info(\"This is my error block\")\n",
    "    print(e)\n",
    "finally :\n",
    "    logging.info(\"This is my finally block\")\n",
    "    print(\"File closed\")\n",
    "    "
   ]
  },
  {
   "cell_type": "code",
   "execution_count": 4,
   "id": "3432ec60-9e05-43e3-bd5d-b2310758e60b",
   "metadata": {},
   "outputs": [
    {
     "name": "stdin",
     "output_type": "stream",
     "text": [
      "Enter the name of the City:-  agra\n"
     ]
    },
    {
     "name": "stdout",
     "output_type": "stream",
     "text": [
      "Monument of that city is Taj Mahal\n",
      "File closed\n"
     ]
    }
   ],
   "source": [
    "\"\"\"Answer 3\"\"\"\n",
    "logging.basicConfig(filename = \"test1.log\" , level = logging.DEBUG , format = '%(asctime)s %(levelname)s %(message)s')\n",
    "try:\n",
    "    logging.info(\"Accept any city from the user and display monuments of that city\")\n",
    "    city = input(\"Enter the name of the City:- \")\n",
    "    city = city.lower()\n",
    "    if city == \"delhi\":\n",
    "        print(\"Monument of that city is Red Fort\")\n",
    "    elif city == \"agra\":\n",
    "        print(\"Monument of that city is Taj Mahal\")\n",
    "    elif city == \"jaipur\":\n",
    "        print(\"Monument of that city is Jai Mahal\")\n",
    "except Exception as e:\n",
    "    logging.info(\"This is my error block\")\n",
    "    print(e)\n",
    "finally:\n",
    "    logging.info(\"This is my finally block\")\n",
    "    print(\"File closed\")\n",
    "    "
   ]
  },
  {
   "cell_type": "code",
   "execution_count": 4,
   "id": "6e128457-1fd4-47cc-bc15-66887b64a1a9",
   "metadata": {},
   "outputs": [
    {
     "data": {
      "text/plain": [
       "'Answer 4'"
      ]
     },
     "execution_count": 4,
     "metadata": {},
     "output_type": "execute_result"
    }
   ],
   "source": [
    "\"\"\"Answer 4\"\"\"\n",
    "\n",
    "\n"
   ]
  },
  {
   "cell_type": "markdown",
   "id": "1e08467c-88d5-4620-aaa5-ea1d7c40d5ac",
   "metadata": {},
   "source": [
    "\"\"\"Answer 5\"\"\"\n",
    "\n",
    "In programming, loops are used to repeat a block of code. For example, if we want to show a message 100 times, then we can use a loop. \n",
    "\n",
    "The syntax of while loop is:\n",
    "\n",
    "while condition:\n",
    "    # body of while loop\n",
    "    \n",
    "1. A while loop evaluates the condition\n",
    "2. If the condition evaluates to True, the code inside the while loop is executed.\n",
    "3. condition is evaluated again.\n",
    "4. This process continues until the condition is False.\n",
    "5. When condition evaluates to False, the loop stops."
   ]
  },
  {
   "cell_type": "code",
   "execution_count": 5,
   "id": "bd1da95c-9fa1-4a43-b5cc-0f0e35c268ce",
   "metadata": {},
   "outputs": [
    {
     "name": "stdout",
     "output_type": "stream",
     "text": [
      "0\n",
      "1\n",
      "2\n",
      "3\n",
      "4\n",
      "5\n",
      "6\n",
      "7\n",
      "8\n",
      "9\n",
      "10\n",
      "File closed\n"
     ]
    }
   ],
   "source": [
    "\"\"\"Part - 2 (Answer 5)\"\"\"\n",
    "# Example\n",
    "\n",
    "logging.basicConfig(filename = \"test1.log\" , level = logging.DEBUG , format = '%(asctime)s %(levelname)s %(message)s')\n",
    "\"\"\"Try to print numbers 1 to 10 using while loop\"\"\"\n",
    "try:\n",
    "    logging.info(\"Printing numbers using while loop\")\n",
    "    i = 0\n",
    "    while i <= 10:\n",
    "        logging.info(\"we are into while loop\")\n",
    "        print(i)\n",
    "        i = i + 1\n",
    "except Exception as e:\n",
    "    logging.info(\"This is my error block\")\n",
    "    print(e)\n",
    "finally:\n",
    "    logging.info(\"This is my finally block\")\n",
    "    print(\"File closed\")\n"
   ]
  },
  {
   "cell_type": "code",
   "execution_count": 6,
   "id": "f79a5955-bae4-4750-bce4-0d65d60e45cf",
   "metadata": {},
   "outputs": [
    {
     "name": "stdin",
     "output_type": "stream",
     "text": [
      "Enter number of rows:-  5\n"
     ]
    },
    {
     "name": "stdout",
     "output_type": "stream",
     "text": [
      "*\n",
      "**\n",
      "***\n",
      "****\n",
      "*****\n",
      "******\n",
      "file closed\n"
     ]
    }
   ],
   "source": [
    "\"\"\"Answer 6\"\"\"\n",
    "\n",
    "logging.basicConfig(filename = 'test1.log' , level = logging.DEBUG , format = '%(asctime)s %(levelname)s %(message)s')\n",
    "try:\n",
    "    logging.info(\"Pattern 1 using while loop\")\n",
    "    n = int(input(\"Enter number of rows:- \"))\n",
    "    i = 0\n",
    "    while(i<=n):\n",
    "        j = i + 1\n",
    "        while j > 0:\n",
    "            print(\"*\", end = \"\" )\n",
    "            j = j - 1\n",
    "        i = i + 1\n",
    "        print()\n",
    "except Exception as e:\n",
    "    logging.info(\"This is my error block\")\n",
    "    print(e)\n",
    "finally:\n",
    "    logging.info(\"This is my finally block\")\n",
    "    print(\"file closed\")\n",
    "    "
   ]
  },
  {
   "cell_type": "code",
   "execution_count": 7,
   "id": "d411ed45-71d9-466b-af9a-f9c50665464a",
   "metadata": {},
   "outputs": [
    {
     "name": "stdin",
     "output_type": "stream",
     "text": [
      "Enter the number of rows:  5\n"
     ]
    },
    {
     "name": "stdout",
     "output_type": "stream",
     "text": [
      "    * \n",
      "   * * \n",
      "  * * * \n",
      " * * * * \n",
      "* * * * * \n",
      "file closed\n"
     ]
    }
   ],
   "source": [
    "\"\"\"Answer 6(second pattern)\"\"\"\n",
    "logging.basicConfig(filename = 'test1.log' , level = logging.DEBUG , format = '%(asctime)s %(levelname)s %(message)s')\n",
    "logging.info(\"Pattern 2 using while loop\")\n",
    "try:\n",
    "    logging.info(\"Pyramid pattern using while loop\")\n",
    "    num = int(input(\"Enter the number of rows: \"))\n",
    "    row = 0\n",
    "    while row < num:\n",
    "        space = num - row -1\n",
    "        while space > 0:\n",
    "            print(end=\" \")\n",
    "            space = space -1\n",
    "        star = row +1\n",
    "        while star>0:\n",
    "            print(\"*\" , end=\" \")\n",
    "            star = star -1\n",
    "        row = row +1\n",
    "        print()\n",
    "except Exception as e:\n",
    "    logging.info(\"This is my error block\")\n",
    "    print(e)\n",
    "finally:\n",
    "    logging.info(\"This is my finally block\")\n",
    "    print(\"file closed\")\n",
    "    "
   ]
  },
  {
   "cell_type": "code",
   "execution_count": 12,
   "id": "1fb55911-ddcf-4787-b60e-7c91ed8f89ca",
   "metadata": {},
   "outputs": [
    {
     "name": "stdout",
     "output_type": "stream",
     "text": [
      "10\n",
      "9\n",
      "8\n",
      "7\n",
      "6\n",
      "5\n",
      "4\n",
      "3\n",
      "2\n",
      "1\n",
      "File closed\n"
     ]
    }
   ],
   "source": [
    "\"\"\"Answer 7\"\"\"\n",
    "import logging\n",
    "logging.basicConfig(filename  = 'test1.log' , level = logging.DEBUG , format =' %(asctime)s , %(levelname)s , %(message)s')\n",
    "logging.info(\"Reverse a while loop to display numbers from 10 to 1\")\n",
    "try:\n",
    "    i = 10\n",
    "    while i >0:\n",
    "        print(i)\n",
    "        i = i - 1\n",
    "except Expection as e:\n",
    "    logging.info(\"This is my error block\")\n",
    "    pirnt(e)\n",
    "finally:\n",
    "    logging.info(\"This is my finally block\")\n",
    "    print(\"File closed\")\n"
   ]
  },
  {
   "cell_type": "code",
   "execution_count": 1,
   "id": "751261cb-808c-4595-a91c-b4a332f4fd0c",
   "metadata": {},
   "outputs": [
    {
     "name": "stdout",
     "output_type": "stream",
     "text": [
      "10\n",
      "9\n",
      "8\n",
      "7\n",
      "6\n",
      "5\n",
      "4\n",
      "3\n",
      "2\n",
      "1\n"
     ]
    }
   ],
   "source": [
    "\"\"\"Answer 8\"\"\"\n",
    "# note :- Question number 7 and question number 8 are same\n",
    "\n",
    "import logging\n",
    "logging.basicConfig(filename  = 'test1.log' , level = logging.DEBUG , format =' %(asctime)s , %(levelname)s , %(message)s')\n",
    "logging.info(\"Reverse a while loop to display numbers from 10 to 1\")\n",
    "try:\n",
    "    i = 10\n",
    "    while i >0:\n",
    "        print(i)\n",
    "        i = i - 1\n",
    "except Expection as e:\n",
    "    logging.info(\"This is my error block\")\n",
    "    pirnt(e)\n",
    "finally:\n",
    "    logging.info(\"This is my finally block\")\n",
    "    print(\"File closed\")\n"
   ]
  },
  {
   "cell_type": "code",
   "execution_count": null,
   "id": "a8d44697-80f3-4da8-b6c1-2cac14fb1b43",
   "metadata": {},
   "outputs": [],
   "source": []
  }
 ],
 "metadata": {
  "kernelspec": {
   "display_name": "Python 3 (ipykernel)",
   "language": "python",
   "name": "python3"
  },
  "language_info": {
   "codemirror_mode": {
    "name": "ipython",
    "version": 3
   },
   "file_extension": ".py",
   "mimetype": "text/x-python",
   "name": "python",
   "nbconvert_exporter": "python",
   "pygments_lexer": "ipython3",
   "version": "3.10.8"
  }
 },
 "nbformat": 4,
 "nbformat_minor": 5
}
